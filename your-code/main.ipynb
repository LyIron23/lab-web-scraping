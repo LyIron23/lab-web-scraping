{
 "cells": [
  {
   "cell_type": "markdown",
   "metadata": {},
   "source": [
    "# Web Scraping Lab\n",
    "\n",
    "You will find in this notebook some scrapy exercises to practise your scraping skills.\n",
    "\n",
    "**Tips:**\n",
    "\n",
    "- Check the response status code for each request to ensure you have obtained the intended content.\n",
    "- Print the response text in each request to understand the kind of info you are getting and its format.\n",
    "- Check for patterns in the response text to extract the data/info requested in each question.\n",
    "- Visit the urls below and take a look at their source code through Chrome DevTools. You'll need to identify the html tags, special class names, etc used in the html content you are expected to extract.\n",
    "\n",
    "**Resources**:\n",
    "- [Requests library](http://docs.python-requests.org/en/master/#the-user-guide)\n",
    "- [Beautiful Soup Doc](https://www.crummy.com/software/BeautifulSoup/bs4/doc/)\n",
    "- [Urllib](https://docs.python.org/3/library/urllib.html#module-urllib)\n",
    "- [re lib](https://docs.python.org/3/library/re.html)\n",
    "- [lxml lib](https://lxml.de/)\n",
    "- [Scrapy](https://scrapy.org/)\n",
    "- [List of HTTP status codes](https://en.wikipedia.org/wiki/List_of_HTTP_status_codes)\n",
    "- [HTML basics](http://www.simplehtmlguide.com/cheatsheet.php)\n",
    "- [CSS basics](https://www.cssbasics.com/#page_start)"
   ]
  },
  {
   "cell_type": "markdown",
   "metadata": {},
   "source": [
    "#### Below are the libraries and modules you may need. `requests`,  `BeautifulSoup` and `pandas` are already imported for you. If you prefer to use additional libraries feel free to do it."
   ]
  },
  {
   "cell_type": "code",
   "execution_count": 4,
   "metadata": {},
   "outputs": [],
   "source": [
    "import requests\n",
    "from bs4 import BeautifulSoup\n",
    "import pandas as pd"
   ]
  },
  {
   "cell_type": "markdown",
   "metadata": {},
   "source": [
    "#### Download, parse (using BeautifulSoup), and print the content from the Trending Developers page from GitHub:"
   ]
  },
  {
   "cell_type": "code",
   "execution_count": 5,
   "metadata": {},
   "outputs": [],
   "source": [
    "# This is the url you will scrape in this exercise\n",
    "url = 'https://github.com/trending/developers'"
   ]
  },
  {
   "cell_type": "code",
   "execution_count": 8,
   "metadata": {},
   "outputs": [],
   "source": [
    "response = requests.get(url)"
   ]
  },
  {
   "cell_type": "markdown",
   "metadata": {},
   "source": [
    "#### 1. Display the names of the trending developers retrieved in the previous step.\n",
    "\n",
    "Your output should be a Python list of developer names. Each name should not contain any html tag.\n",
    "\n",
    "**Instructions:**\n",
    "\n",
    "1. Find out the html tag and class names used for the developer names. You can achieve this using Chrome DevTools or clicking in 'Inspect' on any browser. Here is an example:\n",
    "\n",
    "![title](example_1.png)\n",
    "\n",
    "2. Use BeautifulSoup `find_all()` to extract all the html elements that contain the developer names. Hint: pass in the `attrs` parameter to specify the class.\n",
    "\n",
    "3. Loop through the elements found and get the text for each of them.\n",
    "\n",
    "4. While you are at it, use string manipulation techniques to replace whitespaces and linebreaks (i.e. `\\n`) in the *text* of each html element. Use a list to store the clean names. Hint: you may also use `.get_text()` instead of `.text` and pass in the desired parameters to do some string manipulation (check the documentation).\n",
    "\n",
    "5. Print the list of names.\n",
    "\n",
    "Your output should look like below:\n",
    "\n",
    "```\n",
    "['trimstray (@trimstray)',\n",
    " 'joewalnes (JoeWalnes)',\n",
    " 'charlax (Charles-AxelDein)',\n",
    " 'ForrestKnight (ForrestKnight)',\n",
    " 'revery-ui (revery-ui)',\n",
    " 'alibaba (Alibaba)',\n",
    " 'Microsoft (Microsoft)',\n",
    " 'github (GitHub)',\n",
    " 'facebook (Facebook)',\n",
    " 'boazsegev (Bo)',\n",
    " 'google (Google)',\n",
    " 'cloudfetch',\n",
    " 'sindresorhus (SindreSorhus)',\n",
    " 'tensorflow',\n",
    " 'apache (TheApacheSoftwareFoundation)',\n",
    " 'DevonCrawford (DevonCrawford)',\n",
    " 'ARMmbed (ArmMbed)',\n",
    " 'vuejs (vuejs)',\n",
    " 'fastai (fast.ai)',\n",
    " 'QiShaoXuan (Qi)',\n",
    " 'joelparkerhenderson (JoelParkerHenderson)',\n",
    " 'torvalds (LinusTorvalds)',\n",
    " 'CyC2018',\n",
    " 'komeiji-satori (神楽坂覚々)',\n",
    " 'script-8']\n",
    " ```"
   ]
  },
  {
   "cell_type": "code",
   "execution_count": 13,
   "metadata": {},
   "outputs": [
    {
     "name": "stdout",
     "output_type": "stream",
     "text": [
      "['Matthias Fey (rusty1s)', 'Azure SDK Bot (azure-sdk)', 'Tom Aarsen (tomaarsen)', 'Paul Frazee (pfrazee)', 'lllyasviel ()', 'Liam DeBeasi (liamdebeasi)', 'Erik Schierboom (ErikSchierboom)', 'Joe Tsai (dsnet)', 'ANMOL AGARWAL (fineanmol)', 'Romain Beaumont (rom1504)', 'Alexey Orlenko (aqrln)', 'Alon Zakai (kripken)', 'Vasco Asturiano (vasturiano)', 'Luke Karrys (lukekarrys)', 'Prosper Otemuyiwa (unicodeveloper)', 'Julien Viet (vietj)', 'oobabooga ()', 'Marc Skov Madsen (MarcSkovMadsen)', 'Andrew S. Rosen (Andrew-S-Rosen)', 'Stas Bekman (stas00)', 'Emil Ernerfeldt (emilk)', 'Jack Lloyd (randombit)', 'Alex MacCaw (maccman)', 'Drew Powers (drwpow)', 'Piotr Skalski (SkalskiP)']\n"
     ]
    }
   ],
   "source": [
    "# your code here\n",
    "\n",
    "soup = BeautifulSoup(response.text, 'html.parser')\n",
    "\n",
    "developer_elements = soup.find_all('article', {'class': 'Box-row d-flex'})\n",
    "\n",
    "# a list (name + nickname)\n",
    "formatted_names = []\n",
    "\n",
    "# Loop\n",
    "for developer_element in developer_elements:\n",
    "# the developers' names\n",
    "  developer_name_element = developer_element.find('h1', {'class': 'h3 lh-condensed'})\n",
    "  developer_name = developer_name_element.get_text(strip=True, separator=' ')\n",
    "\n",
    "# the nicknames\n",
    "  nickname_element = developer_element.find('p', {'class': 'f4 text-normal mb-1'})\n",
    "  nickname = nickname_element.get_text(strip=True) if nickname_element else ''\n",
    "\n",
    "# the list\n",
    "  formatted_name = f'{developer_name} ({nickname})'\n",
    "  formatted_names.append(formatted_name)\n",
    "\n",
    "print(formatted_names)"
   ]
  },
  {
   "cell_type": "markdown",
   "metadata": {},
   "source": [
    "#### 1.1. Display the trending Python repositories in GitHub.\n",
    "\n",
    "The steps to solve this problem is similar to the previous one except that you need to find out the repository names instead of developer names."
   ]
  },
  {
   "cell_type": "code",
   "execution_count": 15,
   "metadata": {},
   "outputs": [],
   "source": [
    "# This is the url you will scrape in this exercise\n",
    "url = 'https://github.com/trending/python?since=daily'"
   ]
  },
  {
   "cell_type": "code",
   "execution_count": 16,
   "metadata": {},
   "outputs": [
    {
     "name": "stdout",
     "output_type": "stream",
     "text": [
      "0. OpenBMB /ChatDev\n",
      "1. Pythagora-io /gpt-pilot\n",
      "2. arc53 /DocsGPT\n",
      "3. docker /genai-stack\n",
      "4. openai /openai-python\n",
      "5. chatchat-space /Langchain-Chatchat\n",
      "6. microsoft /promptflow\n",
      "7. oobabooga /text-generation-webui\n",
      "8. microsoft /LMOps\n",
      "9. m-bain /whisperX\n",
      "10. ckan /ckan\n",
      "11. explosion /spaCy\n",
      "12. hotshotco /Hotshot-XL\n",
      "13. assafelovic /gpt-researcher\n",
      "14. PrefectHQ /prefect\n",
      "15. fail2ban /fail2ban\n",
      "16. karpathy /llama2.c\n",
      "17. haotian-liu /LLaVA\n",
      "18. sqlfluff /sqlfluff\n",
      "19. SerCeMan /fontogen\n",
      "20. IDEA-Research /GroundingDINO\n",
      "21. zyddnys /manga-image-translator\n",
      "22. Flagsmith /flagsmith\n",
      "23. tomaarsen /attention_sinks\n",
      "24. guibacellar /TEx\n"
     ]
    }
   ],
   "source": [
    "# your code here\n",
    "response = requests.get(url)\n",
    "\n",
    "soup = BeautifulSoup(response.text, 'html.parser')\n",
    "\n",
    "# Find all the repository elements\n",
    "repository_elements = soup.find_all('h2', {'class': 'h3 lh-condensed'})\n",
    "\n",
    "repository_names = []\n",
    "\n",
    "# Loop\n",
    "for repository_element in repository_elements:\n",
    "# Extract the repository name\n",
    "  repository_name = repository_element.get_text(strip=True)\n",
    "\n",
    "# Append the repository name to the list\n",
    "  repository_names.append(repository_name)\n",
    "\n",
    "# Print the list of repository names\n",
    "for index, name in enumerate(repository_names):\n",
    "  print(f'{index}. {name}')"
   ]
  },
  {
   "cell_type": "markdown",
   "metadata": {},
   "source": [
    "#### 2. Display all the image links from Walt Disney wikipedia page.\n",
    "Hint: use `.get()` to access information inside tags. Check out the documentation."
   ]
  },
  {
   "cell_type": "code",
   "execution_count": 17,
   "metadata": {},
   "outputs": [],
   "source": [
    "# This is the url you will scrape in this exercise\n",
    "url = 'https://en.wikipedia.org/wiki/Walt_Disney'"
   ]
  },
  {
   "cell_type": "code",
   "execution_count": 18,
   "metadata": {},
   "outputs": [
    {
     "name": "stdout",
     "output_type": "stream",
     "text": [
      "0. https://avatars.githubusercontent.com/u/11889052?s=40&v=4\n",
      "1. https://avatars.githubusercontent.com/u/48988402?s=40&v=4\n",
      "2. https://avatars.githubusercontent.com/u/22633385?s=40&v=4\n",
      "3. https://avatars.githubusercontent.com/u/88969506?s=40&v=4\n",
      "4. https://avatars.githubusercontent.com/u/76085202?s=40&v=4\n",
      "5. https://avatars.githubusercontent.com/u/1866161?s=40&v=4\n",
      "6. https://avatars.githubusercontent.com/u/41999013?s=40&v=4\n",
      "7. https://avatars.githubusercontent.com/u/10895136?s=40&v=4\n",
      "8. https://avatars.githubusercontent.com/u/6857382?s=40&v=4\n",
      "9. https://avatars.githubusercontent.com/u/1744164?s=40&v=4\n",
      "10. https://avatars.githubusercontent.com/u/15183589?s=40&v=4\n",
      "11. https://avatars.githubusercontent.com/u/15280652?s=40&v=4\n",
      "12. https://avatars.githubusercontent.com/u/37089427?s=40&v=4\n",
      "13. https://avatars.githubusercontent.com/u/32868631?s=40&v=4\n",
      "14. https://avatars.githubusercontent.com/u/233310?s=40&v=4\n",
      "15. https://avatars.githubusercontent.com/u/570998?s=40&v=4\n",
      "16. https://avatars.githubusercontent.com/u/19948365?s=40&v=4\n",
      "17. https://avatars.githubusercontent.com/u/67427?s=40&v=4\n",
      "18. https://avatars.githubusercontent.com/u/1643888?s=40&v=4\n",
      "19. https://avatars.githubusercontent.com/u/5712661?s=40&v=4\n",
      "20. https://avatars.githubusercontent.com/u/1945079?s=40&v=4\n",
      "21. https://avatars.githubusercontent.com/u/9589037?s=40&v=4\n",
      "22. https://avatars.githubusercontent.com/u/35577566?s=40&v=4\n",
      "23. https://avatars.githubusercontent.com/u/356759?s=40&v=4\n",
      "24. https://avatars.githubusercontent.com/u/81998504?s=40&v=4\n",
      "25. https://avatars.githubusercontent.com/u/5668498?s=40&v=4\n",
      "26. https://avatars.githubusercontent.com/u/22924096?s=40&v=4\n",
      "27. https://avatars.githubusercontent.com/u/41217877?s=40&v=4\n",
      "28. https://avatars.githubusercontent.com/u/16206043?s=40&v=4\n",
      "29. https://avatars.githubusercontent.com/u/127916299?s=40&v=4\n",
      "30. https://avatars.githubusercontent.com/u/47586720?s=40&v=4\n",
      "31. https://avatars.githubusercontent.com/u/7776147?s=40&v=4\n",
      "32. https://avatars.githubusercontent.com/u/2208599?s=40&v=4\n",
      "33. https://avatars.githubusercontent.com/u/2572521?s=40&v=4\n",
      "34. https://avatars.githubusercontent.com/u/24237253?s=40&v=4\n",
      "35. https://avatars.githubusercontent.com/u/112222186?s=40&v=4\n",
      "36. https://avatars.githubusercontent.com/u/3887729?s=40&v=4\n",
      "37. https://avatars.githubusercontent.com/u/4000772?s=40&v=4\n",
      "38. https://avatars.githubusercontent.com/u/73265741?s=40&v=4\n",
      "39. https://avatars.githubusercontent.com/in/29110?s=40&v=4\n",
      "40. https://avatars.githubusercontent.com/u/1070872?s=40&v=4\n",
      "41. https://avatars.githubusercontent.com/u/38183190?s=40&v=4\n",
      "42. https://avatars.githubusercontent.com/u/4668004?s=40&v=4\n",
      "43. https://avatars.githubusercontent.com/u/26034310?s=40&v=4\n",
      "44. https://avatars.githubusercontent.com/u/26793787?s=40&v=4\n",
      "45. https://avatars.githubusercontent.com/u/36994049?s=40&v=4\n",
      "46. https://avatars.githubusercontent.com/u/80467011?s=40&v=4\n",
      "47. https://avatars.githubusercontent.com/u/19920981?s=40&v=4\n",
      "48. https://avatars.githubusercontent.com/u/23458479?s=40&v=4\n",
      "49. https://avatars.githubusercontent.com/u/32404268?s=40&v=4\n",
      "50. https://avatars.githubusercontent.com/u/200230?s=40&v=4\n",
      "51. https://avatars.githubusercontent.com/u/56311?s=40&v=4\n",
      "52. https://avatars.githubusercontent.com/u/22498?s=40&v=4\n",
      "53. https://avatars.githubusercontent.com/u/11091199?s=40&v=4\n",
      "54. https://avatars.githubusercontent.com/u/153258?s=40&v=4\n",
      "55. https://avatars.githubusercontent.com/u/13643239?s=40&v=4\n",
      "56. https://avatars.githubusercontent.com/u/8059750?s=40&v=4\n",
      "57. https://avatars.githubusercontent.com/u/781165?s=40&v=4\n",
      "58. https://avatars.githubusercontent.com/u/5794899?s=40&v=4\n",
      "59. https://avatars.githubusercontent.com/u/8796347?s=40&v=4\n",
      "60. https://avatars.githubusercontent.com/u/6505872?s=40&v=4\n",
      "61. https://avatars.githubusercontent.com/u/2073966?s=40&v=4\n",
      "62. https://avatars.githubusercontent.com/u/110359942?s=40&v=4\n",
      "63. https://avatars.githubusercontent.com/u/13554167?s=40&v=4\n",
      "64. https://avatars.githubusercontent.com/u/91344214?s=40&v=4\n",
      "65. https://avatars.githubusercontent.com/in/29110?s=40&v=4\n",
      "66. https://avatars.githubusercontent.com/u/52860985?s=40&v=4\n",
      "67. https://avatars.githubusercontent.com/u/61274922?s=40&v=4\n",
      "68. https://avatars.githubusercontent.com/u/2586601?s=40&v=4\n",
      "69. https://avatars.githubusercontent.com/u/6200442?s=40&v=4\n",
      "70. https://avatars.githubusercontent.com/u/153965?s=40&v=4\n",
      "71. https://avatars.githubusercontent.com/u/1688064?s=40&v=4\n",
      "72. https://avatars.githubusercontent.com/u/13255838?s=40&v=4\n",
      "73. https://avatars.githubusercontent.com/u/3769657?s=40&v=4\n",
      "74. https://avatars.githubusercontent.com/u/39889?s=40&v=4\n",
      "75. https://avatars.githubusercontent.com/u/462287?s=40&v=4\n",
      "76. https://avatars.githubusercontent.com/u/983305?s=40&v=4\n",
      "77. https://avatars.githubusercontent.com/u/328405?s=40&v=4\n",
      "78. https://avatars.githubusercontent.com/u/241138?s=40&v=4\n",
      "79. https://avatars.githubusercontent.com/u/80846125?s=40&v=4\n",
      "80. https://avatars.githubusercontent.com/u/1887673?s=40&v=4\n",
      "81. https://avatars.githubusercontent.com/u/120342?s=40&v=4\n",
      "82. https://avatars.githubusercontent.com/u/1090367?s=40&v=4\n",
      "83. https://avatars.githubusercontent.com/u/6631389?s=40&v=4\n",
      "84. https://avatars.githubusercontent.com/u/8978644?s=40&v=4\n",
      "85. https://avatars.githubusercontent.com/u/22633385?s=40&v=4\n",
      "86. https://avatars.githubusercontent.com/u/64568?s=40&v=4\n",
      "87. https://avatars.githubusercontent.com/u/8092481?s=40&v=4\n",
      "88. https://avatars.githubusercontent.com/u/4670904?s=40&v=4\n",
      "89. https://avatars.githubusercontent.com/u/1678585?s=40&v=4\n",
      "90. https://avatars.githubusercontent.com/u/10931297?s=40&v=4\n",
      "91. https://avatars.githubusercontent.com/u/80432516?s=40&v=4\n",
      "92. https://avatars.githubusercontent.com/u/23722609?s=40&v=4\n",
      "93. https://avatars.githubusercontent.com/u/1780970?s=40&v=4\n",
      "94. https://avatars.githubusercontent.com/u/34858619?s=40&v=4\n",
      "95. https://avatars.githubusercontent.com/u/48727989?s=40&v=4\n",
      "96. https://avatars.githubusercontent.com/u/26109316?s=40&v=4\n",
      "97. https://avatars.githubusercontent.com/u/45076765?s=40&v=4\n",
      "98. https://avatars.githubusercontent.com/u/7233091?s=40&v=4\n",
      "99. https://avatars.githubusercontent.com/u/58403773?s=40&v=4\n",
      "100. https://avatars.githubusercontent.com/u/17797982?s=40&v=4\n",
      "101. https://avatars.githubusercontent.com/u/31543482?s=40&v=4\n",
      "102. https://avatars.githubusercontent.com/u/51270320?s=40&v=4\n",
      "103. https://avatars.githubusercontent.com/u/121750393?s=40&v=4\n",
      "104. https://avatars.githubusercontent.com/u/14089968?s=40&v=4\n",
      "105. https://avatars.githubusercontent.com/u/8608314?s=40&v=4\n",
      "106. https://avatars.githubusercontent.com/u/173290?s=40&v=4\n",
      "107. https://avatars.githubusercontent.com/u/18366226?s=40&v=4\n",
      "108. https://avatars.githubusercontent.com/in/29110?s=40&v=4\n",
      "109. https://avatars.githubusercontent.com/u/37621491?s=40&v=4\n",
      "110. https://avatars.githubusercontent.com/u/19396472?s=40&v=4\n"
     ]
    }
   ],
   "source": [
    "# your code here\n",
    "image_tags = soup.find_all('img')\n",
    "\n",
    "# the image links\n",
    "image_links = [img.get('src') for img in image_tags if img.get('src')]\n",
    "\n",
    "# Print\n",
    "for index, link in enumerate(image_links):\n",
    "  print(f'{index}. {link}')"
   ]
  },
  {
   "cell_type": "markdown",
   "metadata": {},
   "source": [
    "#### 2.1. List all language names and number of related articles in the order they appear in wikipedia.org."
   ]
  },
  {
   "cell_type": "code",
   "execution_count": 30,
   "metadata": {},
   "outputs": [],
   "source": [
    "# This is the url you will scrape in this exercise\n",
    "url = 'https://www.wikipedia.org/'"
   ]
  },
  {
   "cell_type": "code",
   "execution_count": 31,
   "metadata": {},
   "outputs": [],
   "source": [
    "language_links = soup.find_all('a', {'class': 'link-box'})\n",
    "\n",
    "# extract the language name and article count\n",
    "for link in language_links:\n",
    "  language_name = link.find('strong').get_text(strip=True)\n",
    "  article_count = link.find('small').get_text(strip=True)\n",
    "  print(f'{language_name}: {article_count}')"
   ]
  },
  {
   "cell_type": "markdown",
   "metadata": {},
   "source": [
    "When I use google colab this code works and print out is: \n",
    "\n",
    "English: 6 715 000+articles\n",
    "æ¥æ¬èª: 1 387 000+è¨äº\n",
    "EspaÃ±ol: 1 892 000+artÃ­culos\n",
    "Ð ÑÑÑÐºÐ¸Ð¹: 1 938 000+ÑÑÐ°ÑÐµÐ¹\n",
    "Deutsch: 2 836 000+Artikel\n",
    "FranÃ§ais: 2 553 000+articles\n",
    "Italiano: 1 826 000+voci\n",
    "ä¸­æ: 1 377 000+æ¡ç® / æ¢ç®\n",
    "PortuguÃªs: 1 109 000+artigos\n",
    "Ø§ÙØ¹Ø±Ø¨ÙØ©: 1 217 000+ÙÙØ§ÙØ©\n",
    "\n",
    "I dont know why when I copy this code to VScode it doesnt print out anything."
   ]
  },
  {
   "cell_type": "markdown",
   "metadata": {},
   "source": [
    "#### 2.2. Display the top 10 languages by number of native speakers stored in a pandas dataframe.\n",
    "Hint: After finding the correct table you want to analyse, you can use a nested **for** loop to find the elements row by row (check out the 'td' and 'tr' tags). <br>An easier way to do it is using pd.read_html(), check out documentation [here](https://pandas.pydata.org/pandas-docs/version/0.23.4/generated/pandas.read_html.html)."
   ]
  },
  {
   "cell_type": "code",
   "execution_count": 32,
   "metadata": {},
   "outputs": [],
   "source": [
    "# This is the url you will scrape in this exercise\n",
    "url = 'https://en.wikipedia.org/wiki/List_of_languages_by_number_of_native_speakers'"
   ]
  },
  {
   "cell_type": "code",
   "execution_count": 34,
   "metadata": {},
   "outputs": [],
   "source": [
    "# your code here\n",
    "import pandas as pd\n"
   ]
  },
  {
   "cell_type": "code",
   "execution_count": 36,
   "metadata": {},
   "outputs": [
    {
     "name": "stdout",
     "output_type": "stream",
     "text": [
      "                                            Language  \\\n",
      "0  Mandarin Chinese (incl. Standard Chinese, but ...   \n",
      "1                                            Spanish   \n",
      "2                                            English   \n",
      "3            Hindi (excl. Urdu, and other languages)   \n",
      "4                                         Portuguese   \n",
      "5                                            Bengali   \n",
      "6                                            Russian   \n",
      "7                                           Japanese   \n",
      "8                      Yue Chinese (incl. Cantonese)   \n",
      "9                                         Vietnamese   \n",
      "\n",
      "   Native speakers (millions) Language family        Branch  \n",
      "0                       939.0    Sino-Tibetan       Sinitic  \n",
      "1                       485.0   Indo-European       Romance  \n",
      "2                       380.0   Indo-European      Germanic  \n",
      "3                       345.0   Indo-European    Indo-Aryan  \n",
      "4                       236.0   Indo-European       Romance  \n",
      "5                       234.0   Indo-European    Indo-Aryan  \n",
      "6                       147.0   Indo-European  Balto-Slavic  \n",
      "7                       123.0         Japonic      Japanese  \n",
      "8                        86.1    Sino-Tibetan       Sinitic  \n",
      "9                        85.0   Austroasiatic        Vietic  \n"
     ]
    }
   ],
   "source": [
    "# using pd.read_html() to extract tables\n",
    "tables = pd.read_html(url)\n",
    "\n",
    "# the table is the first one on the page\n",
    "top_languages_df = tables[0]\n",
    "\n",
    "top_10_languages = top_languages_df.head(10)\n",
    "print(top_10_languages)"
   ]
  },
  {
   "cell_type": "markdown",
   "metadata": {},
   "source": [
    "#### 3. Display IMDB's top 250 data (movie name, initial release, director name and stars) as a pandas dataframe.\n",
    "Hint: If you hover over the title of the movie, you should see the director's name. Can you find where it's stored in the html?"
   ]
  },
  {
   "cell_type": "code",
   "execution_count": 59,
   "metadata": {},
   "outputs": [],
   "source": [
    "# This is the url you will scrape in this exercise \n",
    "url = 'https://www.imdb.com/chart/top'"
   ]
  },
  {
   "cell_type": "code",
   "execution_count": 60,
   "metadata": {},
   "outputs": [],
   "source": [
    "response = requests.get(url)\n",
    "soup = BeautifulSoup(response.text, 'html.parser')"
   ]
  },
  {
   "cell_type": "markdown",
   "metadata": {},
   "source": []
  },
  {
   "cell_type": "code",
   "execution_count": 74,
   "metadata": {},
   "outputs": [
    {
     "name": "stdout",
     "output_type": "stream",
     "text": [
      "Empty DataFrame\n",
      "Columns: [Movie Name, Initial Release, Director Name, Star Rating]\n",
      "Index: []\n"
     ]
    }
   ],
   "source": [
    "\n"
   ]
  },
  {
   "cell_type": "markdown",
   "metadata": {},
   "source": [
    "I tried so so many HTML elements but still was not able to get it right. I give up ..."
   ]
  },
  {
   "cell_type": "markdown",
   "metadata": {},
   "source": [
    "#### 3.1. Display the movie name, year and a brief summary of the top 10 random movies (IMDB) as a pandas dataframe."
   ]
  },
  {
   "cell_type": "code",
   "execution_count": null,
   "metadata": {},
   "outputs": [],
   "source": [
    "#This is the url you will scrape in this exercise\n",
    "url = 'https://www.imdb.com/list/ls009796553/'"
   ]
  },
  {
   "cell_type": "code",
   "execution_count": 87,
   "metadata": {},
   "outputs": [],
   "source": [
    "# your code here\n",
    "movie_names = []\n",
    "release_years = []\n",
    "summaries = []\n",
    "    \n",
    "movie_items = soup.find_all('div', {'class': 'lister-item-conten'})[:10]\n",
    "    \n",
    "for item in movie_items:\n",
    "    # Extract data from each movie item\n",
    "    movie_name = item.find('h3', {'class': 'lister-item-header'})\n",
    "    release_year = item.find('a', {'class': 'ipc-inline-list__item'})\n",
    "    summary = item.find('p', {'class': ''})\n",
    "        \n",
    "    # Append data to lists\n",
    "\n",
    "    \n"
   ]
  },
  {
   "cell_type": "markdown",
   "metadata": {},
   "source": [
    "## Bonus"
   ]
  },
  {
   "cell_type": "markdown",
   "metadata": {},
   "source": [
    "#### Find the live weather report (temperature, wind speed, description and weather) of a given city."
   ]
  },
  {
   "cell_type": "code",
   "execution_count": null,
   "metadata": {},
   "outputs": [],
   "source": [
    "#https://openweathermap.org/current\n",
    "city = input('Enter the city: ')\n",
    "url = 'http://api.openweathermap.org/data/2.5/weather?'+'q='+city+'&APPID=b35975e18dc93725acb092f7272cc6b8&units=metric'"
   ]
  },
  {
   "cell_type": "code",
   "execution_count": null,
   "metadata": {},
   "outputs": [],
   "source": [
    "# your code here"
   ]
  },
  {
   "cell_type": "markdown",
   "metadata": {},
   "source": [
    "#### Find the book name, price and stock availability as a pandas dataframe."
   ]
  },
  {
   "cell_type": "code",
   "execution_count": null,
   "metadata": {},
   "outputs": [],
   "source": [
    "# This is the url you will scrape in this exercise. \n",
    "# It is a fictional bookstore created to be scraped. \n",
    "url = 'http://books.toscrape.com/'"
   ]
  },
  {
   "cell_type": "code",
   "execution_count": null,
   "metadata": {},
   "outputs": [],
   "source": [
    "# your code here"
   ]
  },
  {
   "cell_type": "markdown",
   "metadata": {},
   "source": [
    "####  Display the 100 latest earthquakes info (date, time, latitude, longitude and region name) by the EMSC as a pandas dataframe.\n",
    "***Hint:*** Here the displayed number of earthquakes per page is 20, but you can easily move to the next page by looping through the desired number of pages and adding it to the end of the url."
   ]
  },
  {
   "cell_type": "code",
   "execution_count": null,
   "metadata": {},
   "outputs": [],
   "source": [
    "# This is the url you will scrape in this exercise\n",
    "url = 'https://www.emsc-csem.org/Earthquake/?view='\n",
    "\n",
    "# This is how you will loop through each page:\n",
    "number_of_pages = int(100/20)\n",
    "each_page_urls = []\n",
    "\n",
    "for n in range(1, number_of_pages+1):\n",
    "    link = url+str(n)\n",
    "    each_page_urls.append(link)\n",
    "    \n",
    "each_page_urls"
   ]
  },
  {
   "cell_type": "code",
   "execution_count": null,
   "metadata": {},
   "outputs": [],
   "source": [
    "# your code here"
   ]
  }
 ],
 "metadata": {
  "kernelspec": {
   "display_name": "Python 3",
   "language": "python",
   "name": "python3"
  },
  "language_info": {
   "codemirror_mode": {
    "name": "ipython",
    "version": 3
   },
   "file_extension": ".py",
   "mimetype": "text/x-python",
   "name": "python",
   "nbconvert_exporter": "python",
   "pygments_lexer": "ipython3",
   "version": "3.11.5"
  }
 },
 "nbformat": 4,
 "nbformat_minor": 2
}
